{
 "metadata": {
  "name": "ManyMinima"
 },
 "nbformat": 3,
 "nbformat_minor": 0,
 "worksheets": [
  {
   "cells": [
    {
     "cell_type": "code",
     "collapsed": false,
     "input": [
      "import numpy as np\n",
      "from scipy import optimize as opt\n",
      "from matplotlib import pyplot as plt\n",
      "from mpl_toolkits.mplot3d import Axes3D\n",
      "\n",
      "u = np.linspace(0, 2 * np.pi, 10)\n",
      "v = np.linspace(0, np.pi, 10)\n",
      "\n",
      "X = 5* np.outer(np.cos(u), np.sin(v))+1\n",
      "Y = 5* np.outer(np.sin(u), np.sin(v))\n",
      "\n",
      "R = np.sqrt((X+1)**2 + Y**2)\n",
      "Z = R**2 *(1+ np.sin(4*R)**2)\n",
      "fig = plt.figure()\n",
      "ax = fig.add_subplot(111, projection='3d')\n",
      "ax.plot_surface(X, Y, Z)\n",
      "\n",
      "plt . show ()"
     ],
     "language": "python",
     "metadata": {},
     "outputs": [],
     "prompt_number": 1
    },
    {
     "cell_type": "code",
     "collapsed": false,
     "input": [
      "def multimin(x):\n",
      "    r = np.sqrt((x[0]+1)**2 + x[1]**2)\n",
      "    return r**2 *(1+ np.sin(4*r)**2)\n"
     ],
     "language": "python",
     "metadata": {},
     "outputs": [],
     "prompt_number": 3
    },
    {
     "cell_type": "code",
     "collapsed": false,
     "input": [
      "x0 = [-2,-2]\n",
      "res = opt.fmin(multimin, x0, xtol=1e-8, disp=True)\n",
      "print res\n",
      "print multimin(res)\n",
      "print multimin([-1,0])"
     ],
     "language": "python",
     "metadata": {},
     "outputs": [
      {
       "output_type": "stream",
       "stream": "stdout",
       "text": [
        "Optimization terminated successfully.\n",
        "         Current function value: 5.488169\n",
        "         Iterations: 56\n",
        "         Function evaluations: 134\n",
        "[-2.03513929 -2.08611595]\n",
        "5.48816865696\n",
        "0.0\n"
       ]
      }
     ],
     "prompt_number": 4
    },
    {
     "cell_type": "code",
     "collapsed": false,
     "input": [
      "x0 = [-2,-2]\n",
      "opt.minimize(multimin, x0, method='Powell', options={'xtol': 1e-8, 'disp': True})"
     ],
     "language": "python",
     "metadata": {},
     "outputs": [
      {
       "output_type": "stream",
       "stream": "stdout",
       "text": [
        "Optimization terminated successfully.\n",
        "         Current function value: 0.000000\n",
        "         Iterations: 5\n",
        "         Function evaluations: 197\n"
       ]
      },
      {
       "output_type": "pyout",
       "prompt_number": 5,
       "text": [
        "  status: 0\n",
        " success: True\n",
        "   direc: array([[ -6.74073151e-08,   3.65060448e-07],\n",
        "       [  5.61892330e-03,   1.03751837e-03]])\n",
        "    nfev: 197\n",
        "     fun: 1.2326057821565398e-32\n",
        "       x: array([ -1.00000000e+00,   3.25848872e-19])\n",
        " message: 'Optimization terminated successfully.'\n",
        "     nit: 5"
       ]
      }
     ],
     "prompt_number": 5
    },
    {
     "cell_type": "code",
     "collapsed": false,
     "input": [
      "opt.basinhopping(multimin,x0,stepsize=0.5,options={'method':'Neader-Mead','xtol': 1e-8}"
     ],
     "language": "python",
     "metadata": {},
     "outputs": []
    }
   ],
   "metadata": {}
  }
 ]
}