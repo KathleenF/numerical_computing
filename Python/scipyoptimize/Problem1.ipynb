{
 "metadata": {
  "name": "Problem1"
 },
 "nbformat": 3,
 "nbformat_minor": 0,
 "worksheets": [
  {
   "cells": [
    {
     "cell_type": "code",
     "collapsed": false,
     "input": [
      "from scipy import optimize as opt\n",
      "import numpy as np"
     ],
     "language": "python",
     "metadata": {},
     "outputs": [],
     "prompt_number": 3
    },
    {
     "cell_type": "raw",
     "metadata": {},
     "source": [
      "my system couldn't find the dogleg and trust-ncg methods, and the Newton-CG required the Jacobian - so I didn't do it"
     ]
    },
    {
     "cell_type": "code",
     "collapsed": false,
     "input": [
      "x0 = np.array([1.3, 0.7, 0.8, 1.9, 1.2])\n",
      "opt.minimize(opt.rosen, x0, method='nelder-mead', options={'xtol': 1e-8, 'disp': True})"
     ],
     "language": "python",
     "metadata": {},
     "outputs": [
      {
       "output_type": "stream",
       "stream": "stdout",
       "text": [
        "Optimization terminated successfully.\n",
        "         Current function value: 0.000000\n",
        "         Iterations: 339\n",
        "         Function evaluations: 571\n"
       ]
      },
      {
       "output_type": "pyout",
       "prompt_number": 16,
       "text": [
        "  status: 0\n",
        "    nfev: 571\n",
        " success: True\n",
        "     fun: 4.8611534334221152e-17\n",
        "       x: array([ 1.,  1.,  1.,  1.,  1.])\n",
        " message: 'Optimization terminated successfully.'\n",
        "     nit: 339"
       ]
      }
     ],
     "prompt_number": 16
    },
    {
     "cell_type": "code",
     "collapsed": false,
     "input": [
      "x0 = np.array([1.3, 0.7, 0.8, 1.9, 1.2])\n",
      "opt.minimize(opt.rosen, x0, method='Powell', options={'xtol': 1e-8, 'disp': True})"
     ],
     "language": "python",
     "metadata": {},
     "outputs": [
      {
       "output_type": "stream",
       "stream": "stdout",
       "text": [
        "Optimization terminated successfully.\n",
        "         Current function value: 0.000000\n",
        "         Iterations: 19\n",
        "         Function evaluations: 1622\n"
       ]
      },
      {
       "output_type": "pyout",
       "prompt_number": 23,
       "text": [
        "  status: 0\n",
        " success: True\n",
        "   direc: array([[  1.59217495e-06,   1.43301633e-06,   4.65187663e-06,\n",
        "          9.58520273e-06,   2.09783685e-05],\n",
        "       [ -5.72229228e-04,  -8.96827101e-04,  -2.05165897e-03,\n",
        "         -4.12621496e-03,  -7.47022249e-03],\n",
        "       [  0.00000000e+00,   0.00000000e+00,   1.00000000e+00,\n",
        "          0.00000000e+00,   0.00000000e+00],\n",
        "       [ -6.33752967e-03,  -3.93431060e-03,  -1.22576639e-03,\n",
        "          4.95313151e-05,   1.18066443e-04],\n",
        "       [  3.39029104e-08,   7.58841519e-08,   1.38160426e-07,\n",
        "          2.56876108e-07,   5.19973682e-07]])\n",
        "    nfev: 1622\n",
        "     fun: 2.0864733021357032e-21\n",
        "       x: array([ 1.,  1.,  1.,  1.,  1.])\n",
        " message: 'Optimization terminated successfully.'\n",
        "     nit: 19"
       ]
      }
     ],
     "prompt_number": 23
    },
    {
     "cell_type": "code",
     "collapsed": false,
     "input": [
      "x0 = np.array([1.3, 0.7, 0.8, 1.9, 1.2])\n",
      "opt.minimize(opt.rosen, x0, method='CG', options={'disp': True})"
     ],
     "language": "python",
     "metadata": {},
     "outputs": [
      {
       "output_type": "stream",
       "stream": "stdout",
       "text": [
        "Optimization terminated successfully.\n",
        "         Current function value: 0.000000\n",
        "         Iterations: 109\n",
        "         Function evaluations: 1316\n",
        "         Gradient evaluations: 188\n"
       ]
      },
      {
       "output_type": "pyout",
       "prompt_number": 24,
       "text": [
        "  status: 0\n",
        " success: True\n",
        "    njev: 188\n",
        "    nfev: 1316\n",
        "     fun: 1.6884660445235971e-10\n",
        "       x: array([ 0.99999859,  0.99999718,  0.99999437,  0.99998873,  0.99997742])\n",
        " message: 'Optimization terminated successfully.'\n",
        "     jac: array([  1.35122497e-06,  -2.51369907e-06,   3.07553671e-06,\n",
        "         4.51860347e-06,  -9.36330764e-06])"
       ]
      }
     ],
     "prompt_number": 24
    },
    {
     "cell_type": "code",
     "collapsed": false,
     "input": [
      "x0 = np.array([1.3, 0.7, 0.8, 1.9, 1.2])\n",
      "opt.minimize(opt.rosen, x0, method='BFGS', options={'xtol': 1e-8, 'disp': True})"
     ],
     "language": "python",
     "metadata": {},
     "outputs": [
      {
       "output_type": "stream",
       "stream": "stdout",
       "text": [
        "Optimization terminated successfully.\n",
        "         Current function value: 0.000000\n",
        "         Iterations: 51\n",
        "         Function evaluations: 441\n",
        "         Gradient evaluations: 63\n"
       ]
      },
      {
       "output_type": "pyout",
       "prompt_number": 25,
       "text": [
        "  status: 0\n",
        " success: True\n",
        "    njev: 63\n",
        "    nfev: 441\n",
        "     fun: 5.3410227814255484e-11\n",
        "       x: array([ 0.9999992 ,  0.99999841,  0.99999683,  0.99999367,  0.99998733])\n",
        " message: 'Optimization terminated successfully.'\n",
        "    hess: array([[ 0.00746043,  0.01247629,  0.02378885,  0.04716647,  0.09426948],\n",
        "       [ 0.01247629,  0.0249583 ,  0.04760833,  0.09436135,  0.18863414],\n",
        "       [ 0.02378885,  0.04760833,  0.09556936,  0.18942229,  0.3786703 ],\n",
        "       [ 0.04716647,  0.09436135,  0.18942229,  0.38041029,  0.76046547],\n",
        "       [ 0.09426948,  0.18863414,  0.3786703 ,  0.76046547,  1.52523421]])\n",
        "     jac: array([ -6.25867728e-07,   4.04304602e-07,   2.97897757e-07,\n",
        "        -6.27901826e-07,   2.05922213e-07])"
       ]
      }
     ],
     "prompt_number": 25
    },
    {
     "cell_type": "code",
     "collapsed": false,
     "input": [
      "x0 = np.array([1.3, 0.7, 0.8, 1.9, 1.2])\n",
      "opt.minimize(opt.rosen, x0, method='Newton-CG', jac=opt.rosen_der,options={'xtol': 1e-8, 'disp': True})"
     ],
     "language": "python",
     "metadata": {},
     "outputs": [
      {
       "output_type": "stream",
       "stream": "stdout",
       "text": [
        "Optimization terminated successfully.\n",
        "         Current function value: 0.000000\n",
        "         Iterations: 22\n",
        "         Function evaluations: 25\n",
        "         Gradient evaluations: 130\n",
        "         Hessian evaluations: 0\n"
       ]
      },
      {
       "output_type": "pyout",
       "prompt_number": 34,
       "text": [
        "  status: 0\n",
        " success: True\n",
        "    njev: 130\n",
        "    nfev: 25\n",
        "     fun: 1.1179678882758289e-16\n",
        "       x: array([ 1.        ,  1.        ,  1.        ,  0.99999999,  0.99999998])\n",
        " message: 'Optimization terminated successfully.'\n",
        "    nhev: 0\n",
        "     jac: array([  5.89610686e-07,  -2.18839792e-06,  -2.87471568e-06,\n",
        "         5.56200246e-06,  -1.83609827e-06])"
       ]
      }
     ],
     "prompt_number": 34
    },
    {
     "cell_type": "code",
     "collapsed": false,
     "input": [
      "x0 = np.array([1.3, 0.7, 0.8, 1.9, 1.2])\n",
      "opt.minimize(opt.rosen, x0, method='Anneal', options={'xtol': 1e-8, 'disp': True})"
     ],
     "language": "python",
     "metadata": {},
     "outputs": [
      {
       "output_type": "stream",
       "stream": "stdout",
       "text": [
        "Warning: Cooled to 379137759.561297 at [   8.67410538  -27.75557106  -40.42514977    5.9821946  -651.44117599] but this is not the smallest point found.\n"
       ]
      },
      {
       "output_type": "pyout",
       "prompt_number": 14,
       "text": [
        "  status: 5\n",
        " success: False\n",
        "  accept: 58\n",
        "    nfev: 801\n",
        "       T: 251909369.43205088\n",
        "     fun: 44816940.563674681\n",
        "       x: array([-25.63938835,  13.46782821,   0.94878862,   1.1562877 , -30.02841975])\n",
        " message: 'Final point not the minimum amongst encountered points'\n",
        "     nit: 15"
       ]
      }
     ],
     "prompt_number": 14
    },
    {
     "cell_type": "code",
     "collapsed": false,
     "input": [
      "x0 = np.array([1.3, 0.7, 0.8, 1.9, 1.2])\n",
      "opt.minimize(opt.rosen, x0, method='L-BFGS-B', options={'xtol': 1e-8, 'disp': True})"
     ],
     "language": "python",
     "metadata": {},
     "outputs": [
      {
       "output_type": "pyout",
       "prompt_number": 19,
       "text": [
        "  status: 0\n",
        "    nfev: 26\n",
        " success: True\n",
        "     fun: 1.5040617826002715e-11\n",
        "       x: array([ 0.99999957,  0.99999915,  0.99999834,  0.99999667,  0.99999336])\n",
        " message: 'CONVERGENCE: REL_REDUCTION_OF_F_<=_FACTR*EPSMCH'\n",
        "     jac: array([  3.72176954e-08,  -1.26540375e-05,   1.17954940e-05,\n",
        "        -1.22710418e-05,   5.97000495e-06])"
       ]
      }
     ],
     "prompt_number": 19
    },
    {
     "cell_type": "code",
     "collapsed": false,
     "input": [
      "x0 = np.array([1.3, 0.7, 0.8, 1.9, 1.2])\n",
      "opt.minimize(opt.rosen, x0, method='TNC', options={'xtol': 1e-8, 'disp': True})"
     ],
     "language": "python",
     "metadata": {},
     "outputs": [
      {
       "output_type": "pyout",
       "prompt_number": 22,
       "text": [
        "  status: 1\n",
        "    nfev: 80\n",
        " success: True\n",
        "     fun: 6.5080806008681313e-09\n",
        "       x: array([ 1.0000088 ,  1.00001758,  1.00003495,  1.00006993,  1.00014008])\n",
        " message: 'Converged (|f_n-f_(n-1)| ~= 0)'\n",
        "     jac: [2.9407310584476325e-05, 0.0001249378805786011, 1.5335325503850837e-05, 6.9561332863754132e-05, 4.2465666813589135e-05]"
       ]
      }
     ],
     "prompt_number": 22
    },
    {
     "cell_type": "code",
     "collapsed": false,
     "input": [
      "x0 = np.array([1.3, 0.7, 0.8, 1.9, 1.2])\n",
      "opt.minimize(opt.rosen, x0, method='COBYLA', options={'xtol': 1e-8, 'disp': True})"
     ],
     "language": "python",
     "metadata": {},
     "outputs": [
      {
       "output_type": "pyout",
       "prompt_number": 28,
       "text": [
        "  status: 2.0\n",
        "    nfev: 1000\n",
        "   maxcv: 0.0\n",
        " success: False\n",
        "     fun: 0.11666366114093245\n",
        "       x: array([ 1.03328357,  1.06781944,  1.14060138,  1.30159683,  1.69546817])\n",
        " message: 'Maximum number of function evaluations has been exceeded.'"
       ]
      }
     ],
     "prompt_number": 28
    },
    {
     "cell_type": "code",
     "collapsed": false,
     "input": [
      "x0 = np.array([1.3, 0.7, 0.8, 1.9, 1.2])\n",
      "opt.minimize(opt.rosen, x0, method='SLSQP', options={'xtol': 1e-8, 'disp': True})"
     ],
     "language": "python",
     "metadata": {},
     "outputs": [
      {
       "output_type": "stream",
       "stream": "stdout",
       "text": [
        "Optimization terminated successfully.    (Exit mode 0)\n",
        "            Current function value: 2.43387670985e-09\n",
        "            Iterations: 27\n",
        "            Function evaluations: 208\n",
        "            Gradient evaluations: 27\n"
       ]
      },
      {
       "output_type": "pyout",
       "prompt_number": 29,
       "text": [
        "  status: 0\n",
        " success: True\n",
        "    njev: 27\n",
        "    nfev: 208\n",
        "     fun: 2.4338767098503025e-09\n",
        "       x: array([ 0.9999968 ,  0.99999548,  0.99999336,  0.99998999,  0.99998159])\n",
        " message: 'Optimization terminated successfully.'\n",
        "     jac: array([-0.00093952, -0.00067485, -0.00803535,  0.02676783, -0.01038167,  0.        ])\n",
        "     nit: 27"
       ]
      }
     ],
     "prompt_number": 29
    },
    {
     "cell_type": "code",
     "collapsed": false,
     "input": [
      "x0 = np.array([1.3, 0.7, 0.8, 1.9, 1.2])\n",
      "opt.minimize(opt.rosen, x0, method='dogleg', options={'xtol': 1e-8, 'disp': True})"
     ],
     "language": "python",
     "metadata": {},
     "outputs": [
      {
       "ename": "ValueError",
       "evalue": "Unknown solver dogleg",
       "output_type": "pyerr",
       "traceback": [
        "\u001b[0;31m---------------------------------------------------------------------------\u001b[0m\n\u001b[0;31mValueError\u001b[0m                                Traceback (most recent call last)",
        "\u001b[0;32m<ipython-input-33-f43eb484e447>\u001b[0m in \u001b[0;36m<module>\u001b[0;34m()\u001b[0m\n\u001b[1;32m      1\u001b[0m \u001b[0mx0\u001b[0m \u001b[0;34m=\u001b[0m \u001b[0mnp\u001b[0m\u001b[0;34m.\u001b[0m\u001b[0marray\u001b[0m\u001b[0;34m(\u001b[0m\u001b[0;34m[\u001b[0m\u001b[0;36m1.3\u001b[0m\u001b[0;34m,\u001b[0m \u001b[0;36m0.7\u001b[0m\u001b[0;34m,\u001b[0m \u001b[0;36m0.8\u001b[0m\u001b[0;34m,\u001b[0m \u001b[0;36m1.9\u001b[0m\u001b[0;34m,\u001b[0m \u001b[0;36m1.2\u001b[0m\u001b[0;34m]\u001b[0m\u001b[0;34m)\u001b[0m\u001b[0;34m\u001b[0m\u001b[0m\n\u001b[0;32m----> 2\u001b[0;31m \u001b[0mopt\u001b[0m\u001b[0;34m.\u001b[0m\u001b[0mminimize\u001b[0m\u001b[0;34m(\u001b[0m\u001b[0mopt\u001b[0m\u001b[0;34m.\u001b[0m\u001b[0mrosen\u001b[0m\u001b[0;34m,\u001b[0m \u001b[0mx0\u001b[0m\u001b[0;34m,\u001b[0m \u001b[0mmethod\u001b[0m\u001b[0;34m=\u001b[0m\u001b[0;34m'dogleg'\u001b[0m\u001b[0;34m,\u001b[0m \u001b[0moptions\u001b[0m\u001b[0;34m=\u001b[0m\u001b[0;34m{\u001b[0m\u001b[0;34m'xtol'\u001b[0m\u001b[0;34m:\u001b[0m \u001b[0;36m1e-8\u001b[0m\u001b[0;34m,\u001b[0m \u001b[0;34m'disp'\u001b[0m\u001b[0;34m:\u001b[0m \u001b[0mTrue\u001b[0m\u001b[0;34m}\u001b[0m\u001b[0;34m)\u001b[0m\u001b[0;34m\u001b[0m\u001b[0m\n\u001b[0m",
        "\u001b[0;32m/usr/lib/python2.7/dist-packages/scipy/optimize/_minimize.pyc\u001b[0m in \u001b[0;36mminimize\u001b[0;34m(fun, x0, args, method, jac, hess, hessp, bounds, constraints, tol, callback, options)\u001b[0m\n\u001b[1;32m    358\u001b[0m                                constraints, **options)\n\u001b[1;32m    359\u001b[0m     \u001b[0;32melse\u001b[0m\u001b[0;34m:\u001b[0m\u001b[0;34m\u001b[0m\u001b[0m\n\u001b[0;32m--> 360\u001b[0;31m         \u001b[0;32mraise\u001b[0m \u001b[0mValueError\u001b[0m\u001b[0;34m(\u001b[0m\u001b[0;34m'Unknown solver %s'\u001b[0m \u001b[0;34m%\u001b[0m \u001b[0mmethod\u001b[0m\u001b[0;34m)\u001b[0m\u001b[0;34m\u001b[0m\u001b[0m\n\u001b[0m\u001b[1;32m    361\u001b[0m \u001b[0;34m\u001b[0m\u001b[0m\n\u001b[1;32m    362\u001b[0m \u001b[0;34m\u001b[0m\u001b[0m\n",
        "\u001b[0;31mValueError\u001b[0m: Unknown solver dogleg"
       ]
      }
     ],
     "prompt_number": 33
    },
    {
     "cell_type": "code",
     "collapsed": false,
     "input": [
      "x0 = np.array([1.3, 0.7, 0.8, 1.9, 1.2])\n",
      "opt.minimize(opt.rosen, x0, method='trust-ncg', options={'xtol': 1e-8, 'disp': True})"
     ],
     "language": "python",
     "metadata": {},
     "outputs": [
      {
       "ename": "ValueError",
       "evalue": "Unknown solver trust-ncg",
       "output_type": "pyerr",
       "traceback": [
        "\u001b[0;31m---------------------------------------------------------------------------\u001b[0m\n\u001b[0;31mValueError\u001b[0m                                Traceback (most recent call last)",
        "\u001b[0;32m<ipython-input-32-8bdf3fa844e8>\u001b[0m in \u001b[0;36m<module>\u001b[0;34m()\u001b[0m\n\u001b[1;32m      1\u001b[0m \u001b[0mx0\u001b[0m \u001b[0;34m=\u001b[0m \u001b[0mnp\u001b[0m\u001b[0;34m.\u001b[0m\u001b[0marray\u001b[0m\u001b[0;34m(\u001b[0m\u001b[0;34m[\u001b[0m\u001b[0;36m1.3\u001b[0m\u001b[0;34m,\u001b[0m \u001b[0;36m0.7\u001b[0m\u001b[0;34m,\u001b[0m \u001b[0;36m0.8\u001b[0m\u001b[0;34m,\u001b[0m \u001b[0;36m1.9\u001b[0m\u001b[0;34m,\u001b[0m \u001b[0;36m1.2\u001b[0m\u001b[0;34m]\u001b[0m\u001b[0;34m)\u001b[0m\u001b[0;34m\u001b[0m\u001b[0m\n\u001b[0;32m----> 2\u001b[0;31m \u001b[0mopt\u001b[0m\u001b[0;34m.\u001b[0m\u001b[0mminimize\u001b[0m\u001b[0;34m(\u001b[0m\u001b[0mopt\u001b[0m\u001b[0;34m.\u001b[0m\u001b[0mrosen\u001b[0m\u001b[0;34m,\u001b[0m \u001b[0mx0\u001b[0m\u001b[0;34m,\u001b[0m \u001b[0mmethod\u001b[0m\u001b[0;34m=\u001b[0m\u001b[0;34m'trust-ncg'\u001b[0m\u001b[0;34m,\u001b[0m \u001b[0moptions\u001b[0m\u001b[0;34m=\u001b[0m\u001b[0;34m{\u001b[0m\u001b[0;34m'xtol'\u001b[0m\u001b[0;34m:\u001b[0m \u001b[0;36m1e-8\u001b[0m\u001b[0;34m,\u001b[0m \u001b[0;34m'disp'\u001b[0m\u001b[0;34m:\u001b[0m \u001b[0mTrue\u001b[0m\u001b[0;34m}\u001b[0m\u001b[0;34m)\u001b[0m\u001b[0;34m\u001b[0m\u001b[0m\n\u001b[0m",
        "\u001b[0;32m/usr/lib/python2.7/dist-packages/scipy/optimize/_minimize.pyc\u001b[0m in \u001b[0;36mminimize\u001b[0;34m(fun, x0, args, method, jac, hess, hessp, bounds, constraints, tol, callback, options)\u001b[0m\n\u001b[1;32m    358\u001b[0m                                constraints, **options)\n\u001b[1;32m    359\u001b[0m     \u001b[0;32melse\u001b[0m\u001b[0;34m:\u001b[0m\u001b[0;34m\u001b[0m\u001b[0m\n\u001b[0;32m--> 360\u001b[0;31m         \u001b[0;32mraise\u001b[0m \u001b[0mValueError\u001b[0m\u001b[0;34m(\u001b[0m\u001b[0;34m'Unknown solver %s'\u001b[0m \u001b[0;34m%\u001b[0m \u001b[0mmethod\u001b[0m\u001b[0;34m)\u001b[0m\u001b[0;34m\u001b[0m\u001b[0m\n\u001b[0m\u001b[1;32m    361\u001b[0m \u001b[0;34m\u001b[0m\u001b[0m\n\u001b[1;32m    362\u001b[0m \u001b[0;34m\u001b[0m\u001b[0m\n",
        "\u001b[0;31mValueError\u001b[0m: Unknown solver trust-ncg"
       ]
      }
     ],
     "prompt_number": 32
    },
    {
     "cell_type": "code",
     "collapsed": false,
     "input": [],
     "language": "python",
     "metadata": {},
     "outputs": []
    }
   ],
   "metadata": {}
  }
 ]
}