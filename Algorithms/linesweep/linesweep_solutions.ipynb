{
 "metadata": {
  "name": ""
 },
 "nbformat": 3,
 "nbformat_minor": 0,
 "worksheets": [
  {
   "cells": [
    {
     "cell_type": "code",
     "collapsed": false,
     "input": [
      "import numpy as np\n",
      "from numpy.random import rand\n",
      "import scipy.spatial as st\n",
      "from matplotlib import pyplot as plt\n",
      "from math import sqrt\n",
      "import heapq as hq\n",
      "from edge_intersections import edge_intersections, inside\n",
      "import bisect as bs\n",
      "%load_ext cythonmagic"
     ],
     "language": "python",
     "metadata": {},
     "outputs": [],
     "prompt_number": 1
    },
    {
     "cell_type": "code",
     "collapsed": false,
     "input": [
      "%%cython\n",
      "import numpy as np\n",
      "def metric(p, X):\n",
      "    return (((X - p)**2).sum(axis=-1))**.5\n",
      "def mindist_simple(Y, metric):\n",
      "    X = Y.take(Y[:,0].argsort(), axis=0)\n",
      "    r = metric(X[0], X[1])\n",
      "    cdef int low=0\n",
      "    cdef int i = 0\n",
      "    for i in range(2, len(X)):\n",
      "        while X[low,0] < X[i,0] - r:\n",
      "            low += 1\n",
      "        if low < i:\n",
      "            r = min(r, np.min(metric(X[i], X[low:i])))\n",
      "    return r"
     ],
     "language": "python",
     "metadata": {},
     "outputs": [],
     "prompt_number": 2
    },
    {
     "cell_type": "code",
     "collapsed": false,
     "input": [
      "%%cython\n",
      "from libc.math cimport fabs, sqrt\n",
      "cimport numpy as np\n",
      "cimport cython\n",
      "@cython.boundscheck(False)\n",
      "@cython.wraparound(False)\n",
      "def mindist(Y):\n",
      "    cdef np.ndarray[double,ndim=2] X = Y.take(Y[:,0].argsort(), axis=0)\n",
      "    cdef double d, dif,r = 0.\n",
      "    cdef int low=0, dim=X.shape[1], n = X.shape[0], i, j, k, proc\n",
      "    for i in range(dim):\n",
      "        r+= (X[0,i] - X[1,i])**2\n",
      "    r = sqrt(r)\n",
      "    for i in range(2, n):\n",
      "        while X[low,0] < X[i,0] - r:\n",
      "            low += 1\n",
      "        for k in range(low, i):\n",
      "            proc = 1\n",
      "            d = 0.\n",
      "            for j in range(1, dim):\n",
      "                dif = fabs(X[k,j] - X[i,j])\n",
      "                if r < dif:\n",
      "                    proc = 0\n",
      "                    break\n",
      "                d += dif**2\n",
      "            if proc:\n",
      "                r = min(r, sqrt(d + (X[k,0] - X[i,0])**2))\n",
      "    return r"
     ],
     "language": "python",
     "metadata": {},
     "outputs": [
      {
       "output_type": "stream",
       "stream": "stderr",
       "text": [
        "warning: c:\\Anaconda\\lib\\site-packages\\cython-0.20b1-py2.7-win-amd64.egg\\Cython\\Includes\\numpy.pxd:869:17: Non-trivial type declarators in shared declaration (e.g. mix of pointers and values). Each pointer declaration should be on its own line.\n",
        "warning: c:\\Anaconda\\lib\\site-packages\\cython-0.20b1-py2.7-win-amd64.egg\\Cython\\Includes\\numpy.pxd:869:24: Non-trivial type declarators in shared declaration (e.g. mix of pointers and values). Each pointer declaration should be on its own line.\n"
       ]
      }
     ],
     "prompt_number": 3
    },
    {
     "cell_type": "code",
     "collapsed": false,
     "input": [
      "# It would probably take around 40 years to do this problem the bad way for 10000000 points in 2 dimensions.\n",
      "# Here are the results for the fast version.\n",
      "X = rand(10000000, 2)\n",
      "%timeit mindist(X)"
     ],
     "language": "python",
     "metadata": {},
     "outputs": [
      {
       "output_type": "stream",
       "stream": "stdout",
       "text": [
        "1 loops, best of 3: 3.51 s per loop\n"
       ]
      }
     ],
     "prompt_number": 4
    },
    {
     "cell_type": "code",
     "collapsed": false,
     "input": [
      "# farthest point problem\n",
      "def farthest(pts, xlims, ylims, n):\n",
      "    # there are a ton of ways to do this, this is a shorter one\n",
      "    ins = lambda pt: inside(pt, xlims, ylims)\n",
      "    V = st.Voronoi(pts)\n",
      "    KD = st.cKDTree(pts)\n",
      "    Q = [(KD.query(pt)[0],pt) for pt in V.vertices if ins(pt)]\n",
      "    Q += [(KD.query(pt)[0],pt) for pt in edge_intersections(V, xlims, ylims)[0]]\n",
      "    Q += [(KD.query(pt)[0],(x,y)) for x in xlims for y in ylims]\n",
      "    return np.array([pair[1] for pair in hq.nlargest(n,Q)])"
     ],
     "language": "python",
     "metadata": {},
     "outputs": [],
     "prompt_number": 5
    },
    {
     "cell_type": "code",
     "collapsed": false,
     "input": [
      "# triangulation of the unit squre problem\n",
      "def triangulate(n):\n",
      "    X = np.linspace(0,1,n)\n",
      "    Y = X.copy()\n",
      "    X,Y = np.meshgrid(X,Y,copy=False)\n",
      "    A = np.column_stack((X.flat,Y.flat))\n",
      "    D = st.Delaunay(A)\n",
      "    plt.triplot(A[:,0],A[:,1],D.simplices.copy())\n",
      "    plt.show()"
     ],
     "language": "python",
     "metadata": {},
     "outputs": [],
     "prompt_number": 6
    },
    {
     "cell_type": "code",
     "collapsed": false,
     "input": [
      "# This generates the plots for the simplified linsweep.\n",
      "# It generates more plots than are actually used in the lab.\n",
      "# I just picked the plots that were useful in illustrating the algorithm.\n",
      "def multidist(p0, p1):\n",
      "    l = len(p0)\n",
      "    return (sum([(p0[i] - p1[i])**2 for i in range(l)]))**(.5)\n",
      "def mindist_simple_plot(Y):\n",
      "    X = Y.take(Y[:,0].argsort(), axis=0)\n",
      "    n = len(X)\n",
      "    actives = []\n",
      "    pt = tuple(X[0])\n",
      "    actives.append(pt)\n",
      "    pt = tuple(X[1])\n",
      "    actives.append(pt)\n",
      "    r = multidist(actives[0], actives[1])\n",
      "    for i in xrange(2, len(X)):\n",
      "        pt = tuple(X[i])\n",
      "        l = len(actives)\n",
      "        while l > 0:\n",
      "            if actives[0][0] > pt[0] + r:\n",
      "                actives.pop(0)\n",
      "                l -= 1\n",
      "            else:\n",
      "                break\n",
      "        plt.scatter(X[:,0], X[:,1])\n",
      "        res = 15\n",
      "        T = np.linspace(-.2, 1.2, res)\n",
      "        res2 = 201\n",
      "        theta = np.linspace(np.pi/2, 3*np.pi/2, res2)\n",
      "        plt.plot([pt[0]]*res, T, color='r')\n",
      "        plt.plot([pt[0]-r]*res, T, color='r')\n",
      "        X0 = np.array([pt + r * np.array([np.cos(t), np.sin(t)]) for t in theta])\n",
      "        plt.plot(X0[:,0], X0[:,1], color='g')\n",
      "        plt.xlim((-.2, 1.2))\n",
      "        plt.ylim((-.2, 1.2))\n",
      "        plt.show()\n",
      "        for k in xrange(len(actives)):\n",
      "            d = multidist(pt, actives[k])\n",
      "            if d < r:\n",
      "                r = d\n",
      "        actives.append(pt)\n",
      "    return r\n",
      "X = rand(10, 2)\n",
      "mindist3plot(X)"
     ],
     "language": "python",
     "metadata": {},
     "outputs": [
      {
       "metadata": {},
       "output_type": "pyout",
       "prompt_number": 7,
       "text": [
        "0.15009075061176527"
       ]
      }
     ],
     "prompt_number": 7
    },
    {
     "cell_type": "code",
     "collapsed": false,
     "input": [
      "# This generates the plots for the full version.\n",
      "# It generates more plots than are actually used in the lab.\n",
      "# I just picked the plots that were useful in illustrating the algorithm.\n",
      "def mindist_plot(Y):\n",
      "    X = Y.take(Y[:,0].argsort(), axis=0)\n",
      "    n = len(X)\n",
      "    actives = []\n",
      "    pt = X[0]\n",
      "    actives.insert(bs.bisect_left(actives, tuple(reversed(tuple(pt)))), tuple(reversed(tuple(pt))))\n",
      "    pt = X[1]\n",
      "    actives.insert(bs.bisect_left(actives, tuple(reversed(tuple(pt)))), tuple(reversed(tuple(pt))))\n",
      "    r = multidist(actives[0], actives[1])\n",
      "    for i in xrange(2, n):\n",
      "        plt.scatter(X[:,0], X[:,1])\n",
      "        pt = tuple(X[i])\n",
      "        res = 1401\n",
      "        x = np.linspace(-.2, 1.2, res)\n",
      "        plt.plot(x, [pt[1] - r] * res, color='r')\n",
      "        plt.plot(x, [pt[1] + r] * res, color='r')\n",
      "        plt.plot([pt[0]] * res, x, color='b')\n",
      "        plt.plot([pt[0] - r] * res, x, color='b')\n",
      "        T = np.linspace(np.pi / 2, 3 * np.pi / 2, res)\n",
      "        pt = np.array(pt)\n",
      "        X0 = np.array([pt + r * np.array([np.cos(t), np.sin(t)]) for t in T])\n",
      "        plt.plot(X0[:,0], X0[:,1], color='g')\n",
      "        block = actives[bs.bisect_left(actives, (pt[1] - r, pt[0] - r)): bs.bisect_right(actives, (pt[1] + r, pt[0]))]\n",
      "        for k in xrange(len(block)):\n",
      "            d = multidist(tuple(reversed(tuple(pt))), block[k])\n",
      "            if d < r:\n",
      "                r = d\n",
      "        removalidx = 0\n",
      "        while removalidx < len(actives):\n",
      "            if abs(actives[removalidx][1] - pt[0]) > r:\n",
      "                actives.pop(removalidx)\n",
      "            else:\n",
      "                removalidx += 1\n",
      "        if len(actives) > 0:\n",
      "            plt.scatter(np.fliplr(np.array(actives))[:,0], np.fliplr(np.array(actives))[:,1])\n",
      "        if len(block) > 0:\n",
      "            plt.scatter(np.fliplr(np.array(block))[:,0], np.fliplr(np.array(block))[:,1])\n",
      "        plt.show()\n",
      "        actives.insert(bs.bisect_left(actives, tuple(reversed(tuple(pt)))), tuple(reversed(tuple(pt))))\n",
      "    return r\n",
      "X = rand(25, 2)\n",
      "mindistplot(X)"
     ],
     "language": "python",
     "metadata": {},
     "outputs": [
      {
       "metadata": {},
       "output_type": "pyout",
       "prompt_number": 8,
       "text": [
        "0.024158899417931329"
       ]
      }
     ],
     "prompt_number": 8
    },
    {
     "cell_type": "code",
     "collapsed": false,
     "input": [],
     "language": "python",
     "metadata": {},
     "outputs": []
    }
   ],
   "metadata": {}
  }
 ]
}